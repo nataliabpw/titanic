{
 "cells": [
  {
   "cell_type": "markdown",
   "metadata": {},
   "source": [
    "# Projekt PRiAD Natalia Biernacka, Anton Libik\n",
    "### Wybrany zbiór danych: Titanic Survival Prediction Dataset\n"
   ]
  },
  {
   "cell_type": "markdown",
   "metadata": {},
   "source": [
    "Import niezbędnych pakietów"
   ]
  },
  {
   "cell_type": "code",
   "execution_count": 87,
   "metadata": {},
   "outputs": [],
   "source": [
    "import numpy as np\n",
    "import pandas as pd\n",
    "import seaborn as sns\n",
    "import matplotlib.pyplot as plt\n",
    "\n",
    "pd.options.display.float_format = \"{:.2f}\".format "
   ]
  },
  {
   "cell_type": "code",
   "execution_count": null,
   "metadata": {},
   "outputs": [],
   "source": [
    "# wczytanie zbioru danych\n",
    "import kagglehub\n",
    "import os\n",
    "\n",
    "path = kagglehub.dataset_download(\"yasserh/titanic-dataset\") \n",
    "print(\"Path to dataset files:\", path)\n",
    "\n",
    "file_path = os.path.join(path, 'Titanic-Dataset.csv')\n",
    "dane = pd.read_csv(file_path)\n",
    "dane.head()"
   ]
  },
  {
   "cell_type": "markdown",
   "metadata": {},
   "source": [
    "### Analiza eksploracyjna"
   ]
  },
  {
   "cell_type": "markdown",
   "metadata": {},
   "source": [
    "1) Wyznaczamy liczbę obiektów, liczbę atrybutów. Usuwamy kolumny PassengerId, Ticket i Name - nie są one potrzebne dla dalszej analizy.\n"
   ]
  },
  {
   "cell_type": "code",
   "execution_count": null,
   "metadata": {},
   "outputs": [],
   "source": [
    "# liczba obiektów\n",
    "print(\"Liczba obiektów:\", dane.shape[0])\n",
    "\n",
    "# liczba atrybutów\n",
    "print(\"Liczba atrybutow:\", dane.shape[1])\n",
    "\n",
    "# usuwanie kolumny PassengerId i Name\n",
    "dane.drop(columns=['PassengerId'], inplace=True)\n",
    "dane.drop(columns=['Name'], inplace=True)\n",
    "dane.drop(columns=['Ticket'], inplace=True)"
   ]
  },
  {
   "cell_type": "markdown",
   "metadata": {},
   "source": [
    "2. Liczba obiektów, reprezentujących pasażerów, którzy przeżyli (atrybut survived ma 1) i którzy nie (survived = 0)"
   ]
  },
  {
   "cell_type": "code",
   "execution_count": null,
   "metadata": {},
   "outputs": [],
   "source": [
    "survivedDF = dane[dane.Survived == 1]\n",
    "\n",
    "notSurvivedDF = dane[dane.Survived == 0]\n",
    "\n",
    "print(\"Liczba pasażerów, którzy przeżyli: \", survivedDF.shape[0])\n",
    "print(\"Liczba pasażerów, którzy nie przeżyli: \", notSurvivedDF.shape[0])\n",
    "\n",
    "procent = survivedDF.shape[0] / dane.shape[0] * 100\n",
    "print(\"Ile procent przeżyło: \", round(procent, 2), \"%\")"
   ]
  },
  {
   "cell_type": "markdown",
   "metadata": {},
   "source": [
    "3. Liczba brakujących danych w poszczególnych kolumnach"
   ]
  },
  {
   "cell_type": "code",
   "execution_count": null,
   "metadata": {},
   "outputs": [],
   "source": [
    "dane.isnull().sum()"
   ]
  },
  {
   "cell_type": "markdown",
   "metadata": {},
   "source": [
    "4. Usuwamy kolumnę \"Cabin\", ponieważ zawiera dużą liczbę brakujących danyh i będzie przeszkadać analizie. Zamiast brakujących danych w kolumnie \"Age\" wstawiamy dane średniego wieku."
   ]
  },
  {
   "cell_type": "code",
   "execution_count": null,
   "metadata": {},
   "outputs": [],
   "source": [
    "# usuwamy kolumnę Cabin\n",
    "dane.drop(columns=['Cabin'], inplace=True)\n",
    "\n",
    "# wstawiamy średni wiek zamiast brakujących danych w kolumnie Age\n",
    "dane['Age'] = dane['Age'].fillna(dane['Age'].median())\n",
    "\n",
    "# sprawdzamy liczbę brakujących danych \n",
    "dane.isnull().sum()"
   ]
  },
  {
   "cell_type": "markdown",
   "metadata": {},
   "source": [
    "5. Usuwamy pozostałe brakujące dane"
   ]
  },
  {
   "cell_type": "code",
   "execution_count": null,
   "metadata": {},
   "outputs": [],
   "source": [
    "dane = dane.dropna()\n",
    "\n",
    "dane.isnull().sum()"
   ]
  },
  {
   "cell_type": "markdown",
   "metadata": {},
   "source": [
    "6. Zbiór został przygotowany do analizy ekploracyjnej, ostateczna liczba obiektów i atrybutów:"
   ]
  },
  {
   "cell_type": "code",
   "execution_count": null,
   "metadata": {},
   "outputs": [],
   "source": [
    "# liczba obiektów\n",
    "print(\"Liczba obiektów:\", dane.shape[0])\n",
    "\n",
    "# liczba atrybutów\n",
    "print(\"Liczba atrybutow:\", dane.shape[1])"
   ]
  },
  {
   "cell_type": "markdown",
   "metadata": {},
   "source": [
    "##### Analiza zmienności atrybutów bez odniesienia do przeżycia"
   ]
  },
  {
   "cell_type": "code",
   "execution_count": null,
   "metadata": {},
   "outputs": [],
   "source": [
    "print(dane.describe())\n",
    "\n",
    "plt.figure(figsize=(15,15))\n",
    "plt.subplot(4,2,1)\n",
    "sns.violinplot(data=dane['Pclass'])\n",
    "plt.subplot(4,2,2)\n",
    "sns.violinplot(data=dane['Age'])\n",
    "plt.subplot(4,2,3)\n",
    "sns.violinplot(data=dane['SibSp'])\n",
    "plt.subplot(4,2,4)\n",
    "sns.violinplot(data=dane['Parch'])\n",
    "plt.subplot(4,2,5)\n",
    "sns.violinplot(data=dane['Fare'])\n",
    "plt.subplot(4,2,6)\n",
    "sns.histplot(data=dane, x=\"Sex\", hue=\"Sex\")\n",
    "plt.subplot(4,2,7)\n",
    "sns.histplot(data=dane, x=\"Embarked\", hue=\"Embarked\")"
   ]
  },
  {
   "cell_type": "markdown",
   "metadata": {},
   "source": [
    "##### Analiza zmienności atrybutów w zależności od przeżycia"
   ]
  },
  {
   "cell_type": "code",
   "execution_count": null,
   "metadata": {},
   "outputs": [],
   "source": [
    "print(dane[dane['Survived'] == 0].describe())\n",
    "print(dane[dane['Survived'] == 1].describe())\n",
    "plt.figure(figsize= (20,20))\n",
    "plt.subplot(4, 2, 1)\n",
    "sns.violinplot(x = 'Survived', y = 'Age', data=dane, legend=False, hue = 'Survived')\n",
    "plt.subplot(4, 2, 2)\n",
    "sns.violinplot(x = 'Survived', y = 'SibSp', data=dane, legend=False, hue = 'Survived')\n",
    "plt.subplot(4, 2, 3)\n",
    "sns.violinplot(x = 'Survived', y = 'Parch', data=dane, legend=False, hue = 'Survived')\n",
    "plt.subplot(4, 2, 4)\n",
    "sns.violinplot(x = 'Survived', y = 'Fare', data=dane, legend=False, hue = 'Survived')\n",
    "plt.figure(figsize= (5,5))\n",
    "plt.xticks([0, 1])\n",
    "sns.countplot(data=dane, x=\"Survived\", hue=\"Sex\")\n",
    "plt.figure(figsize= (5,5))\n",
    "plt.xticks([0, 1])\n",
    "sns.countplot(data=dane, x=\"Survived\", hue=\"Embarked\")\n",
    "plt.figure(figsize= (5,5))\n",
    "plt.xticks([0, 1])\n",
    "sns.countplot(data=dane, x=\"Survived\", hue=\"Pclass\")"
   ]
  },
  {
   "cell_type": "markdown",
   "metadata": {},
   "source": [
    "Wnioski\n",
    "* Rozkład wartości atrybutów Age, SibSp, Parch i Fare dla pasażerów, którzy przeżyli i nie przeżyli jest podobny. Możemy zaobserwować, że w przypadku grupy dzieci (wiek ok. 10 lat) oraz osób, których cena biletu wynosiła powyżej 100, większość przezyła\n",
    "* Przeżywalność jest w dużym stopniu zależna od płci. Większość kobiet przeżyła, zaś znaczna większość mężczyzn zginęła.\n",
    "* Port, z którego pasażer wszedł na pokład nie ma większego znaczenia.\n",
    "* Na przeżywalność silnie wpłynęła klasa, w której podróżował pasażer - większość osób z klasy 1 przeżyła zaś z klasy 3 zdecydowana większość zginęła\n"
   ]
  },
  {
   "cell_type": "markdown",
   "metadata": {},
   "source": [
    "##### Wykres punktowy"
   ]
  },
  {
   "cell_type": "code",
   "execution_count": null,
   "metadata": {},
   "outputs": [],
   "source": [
    "sns.pairplot(dane, kind = 'scatter', hue = \"Survived\")"
   ]
  },
  {
   "cell_type": "markdown",
   "metadata": {},
   "source": [
    "##### Korelacja"
   ]
  },
  {
   "cell_type": "code",
   "execution_count": null,
   "metadata": {},
   "outputs": [],
   "source": [
    "kor = dane.loc[:, np.logical_and(dane.columns != \"Sex\", dane.columns != \"Embarked\")].corr()\n",
    "print(kor)\n",
    "plt.figure(figsize=(10,8), dpi =100)\n",
    "sns.heatmap(kor, annot=kor)"
   ]
  },
  {
   "cell_type": "markdown",
   "metadata": {},
   "source": [
    "Wnioski:\n",
    "* najsilniej skolerowane są cena biletu (Fare) oraz klasa (Pclass) - cena biletu wyższa dla klasy 1, nieco niższa dla klasy 2 i najniższa dla klasy 3\n",
    "* z przeżywalnością (survived) najsilniej skolerowana jest klasa, co potwierdza wnioski z analizy zmienności atrybutów"
   ]
  },
  {
   "cell_type": "markdown",
   "metadata": {},
   "source": [
    "### Osobny model Bayesa dla kobiet i mężczyzn"
   ]
  },
  {
   "cell_type": "code",
   "execution_count": 99,
   "metadata": {},
   "outputs": [],
   "source": [
    "# zdefiniowanie niezbędnych funkcji\n",
    "from sklearn.model_selection import train_test_split\n",
    "from sklearn.preprocessing import LabelEncoder\n",
    "from sklearn.naive_bayes import GaussianNB\n",
    "from sklearn.metrics import confusion_matrix\n",
    "from sklearn import metrics\n",
    "\n",
    "def podziel(dane,proporcja):\n",
    "    df = dane.copy()\n",
    "    for col in df.columns:\n",
    "        if df[col].dtype == 'object':\n",
    "            le = LabelEncoder()\n",
    "            df[col] = le.fit_transform(df[col])\n",
    "    X = df.drop('Survived', axis = 1)\n",
    "    Y = df['Survived'].astype('category').cat.codes\n",
    "    opis_ucz, opis_test, dec_ucz, dec_test = train_test_split(X, Y, test_size=proporcja)#, random_state=0)\n",
    "    return {\"opis_ucz\":opis_ucz, \"opis_test\":opis_test, \"dec_ucz\":dec_ucz, \"dec_test\":dec_test}\n",
    "\n",
    "def weryfikuj(model,dane,atryb):\n",
    "    model.fit(dane[\"opis_ucz\"].iloc[:,atryb], dane[\"dec_ucz\"])\n",
    "    wynik_ucz = model.predict(dane[\"opis_ucz\"].iloc[:,atryb])\n",
    "    wynik_test = model.predict(dane[\"opis_test\"].iloc[:,atryb])\n",
    "    mp = confusion_matrix(dane[\"dec_ucz\"],wynik_ucz)\n",
    "    print(\"macierz pomyłek - zbiór uczący, dokładność:\",np.sum(np.diag(mp))/np.sum(mp))\n",
    "    print(model.score(dane[\"opis_ucz\"].iloc[:, atryb], dane[\"dec_ucz\"]))\n",
    "    print(mp)\n",
    "    mp = confusion_matrix(dane[\"dec_test\"],wynik_test)\n",
    "    print(\"macierz pomyłek - zbiór testowy, dokładność:\",np.sum(np.diag(mp))/np.sum(mp))\n",
    "    print(model.score(dane[\"opis_ucz\"].iloc[:, atryb], dane[\"dec_ucz\"]))\n",
    "    print(mp) \n",
    "\n",
    "def granice(model,dane,atr_x, atr_y,tytul,kontur = 1):\n",
    "    # for col in dane[\"opis_ucz\"].columns:\n",
    "    #     if dane[\"opis_ucz\"][col].dtype == 'object':\n",
    "    #         le = LabelEncoder()\n",
    "    #         dane[\"opis_ucz\"][col] = le.fit_transform(dane[\"opis_ucz\"][col])\n",
    "    #         dane[\"opis_test\"][col] = le.transform(dane[\"opis_test\"][col])\n",
    "    if (kontur == 1):    \n",
    "        model.fit(np.array(dane[\"opis_ucz\"].iloc[:,[atr_x,atr_y]]), np.array(dane[\"dec_ucz\"]))\n",
    "        x_min = min(dane[\"opis_ucz\"].iloc[:, atr_x].min(),dane[\"opis_test\"].iloc[:, atr_x].min())\n",
    "        x_max = max(dane[\"opis_ucz\"].iloc[:, atr_x].max(),dane[\"opis_test\"].iloc[:, atr_x].max())\n",
    "        y_min = min(dane[\"opis_ucz\"].iloc[:, atr_y].min(),dane[\"opis_test\"].iloc[:, atr_y].min())\n",
    "        y_max = max(dane[\"opis_ucz\"].iloc[:, atr_y].max(),dane[\"opis_test\"].iloc[:, atr_y].max())\n",
    "        rozst_x = x_max - x_min\n",
    "        rozst_y = y_max - y_min\n",
    "        x_min = x_min - 0.1*rozst_x\n",
    "        x_max = x_max + 0.1*rozst_x\n",
    "        y_min = y_min - 0.1*rozst_y\n",
    "        y_max = y_max + 0.1*rozst_y       \n",
    "        xx, yy = np.meshgrid(np.arange(x_min, x_max, (x_max-x_min)/150),\n",
    "                     np.arange(y_min, y_max, (y_max-y_min)/150))\n",
    "        Z = model.predict(np.c_[xx.ravel(), yy.ravel()])\n",
    "        Z = Z.reshape(xx.shape)\n",
    "    plt.figure(dpi = 100)\n",
    "    plt.title(tytul)\n",
    "    if (kontur == 1):\n",
    "        plt.contourf(xx, yy, Z, levels = 4, alpha=0.2)\n",
    "    plt.scatter(dane[\"opis_ucz\"].iloc[:, atr_x], dane[\"opis_ucz\"].iloc[:, atr_y], c=dane[\"dec_ucz\"], marker = '.')\n",
    "    plt.scatter(dane[\"opis_test\"].iloc[:, atr_x], dane[\"opis_test\"].iloc[:, atr_y], c=dane[\"dec_test\"], marker = 'x')"
   ]
  },
  {
   "cell_type": "code",
   "execution_count": null,
   "metadata": {},
   "outputs": [],
   "source": [
    "d = podziel(dane, 0.3)\n",
    "model = GaussianNB()\n",
    "granice(model,d,0,2,\"klasyfikator Bayesa z uwzględnieniem płci\")\n",
    "weryfikuj(model,d,[0,2])\n",
    "a1=0\n",
    "a2=1\n",
    "print(dane.head())\n",
    "d = podziel(dane[dane['Sex']==\"female\"].drop('Sex', axis=1), 0.3)\n",
    "print(d)\n",
    "model = GaussianNB()\n",
    "granice(model,d,a1,a2,\"klasyfikator Bayesa dla kobiet\")\n",
    "weryfikuj(model,d,[a1,a2])\n",
    "d = podziel(dane[dane['Sex']==\"male\"].drop('Sex', axis=1), 0.3)\n",
    "print(d)\n",
    "model = GaussianNB()\n",
    "granice(model,d,a1,a2,\"klasyfikator Bayesa dla mężczyzn\")\n",
    "weryfikuj(model,d,[a1,a2])"
   ]
  }
 ],
 "metadata": {
  "kernelspec": {
   "display_name": "Python 3",
   "language": "python",
   "name": "python3"
  },
  "language_info": {
   "codemirror_mode": {
    "name": "ipython",
    "version": 3
   },
   "file_extension": ".py",
   "mimetype": "text/x-python",
   "name": "python",
   "nbconvert_exporter": "python",
   "pygments_lexer": "ipython3",
   "version": "3.8.5"
  }
 },
 "nbformat": 4,
 "nbformat_minor": 4
}
